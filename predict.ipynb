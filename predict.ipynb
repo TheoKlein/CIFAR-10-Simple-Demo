{
 "cells": [
  {
   "cell_type": "code",
   "execution_count": null,
   "metadata": {},
   "outputs": [],
   "source": [
    "# -*- coding: utf-8 -*-\n",
    "\"\"\"\n",
    "    File name: predict.ipynb\n",
    "    Author: Theo Chen <theokleintw@gmail.com>\n",
    "\"\"\"\n",
    "\n",
    "%matplotlib inline\n",
    "\n",
    "from cnn import network, NAME\n",
    "from PIL import Image, ImageOps\n",
    "from os.path import basename\n",
    "import matplotlib.pyplot as plt\n",
    "import os\n",
    "import tflearn\n",
    "import numpy as np\n",
    "\n",
    "def encode2label(encode):\n",
    "    \"\"\" Return label string from one-hot encoded list \"\"\"\n",
    "    encode = encode.tolist()\n",
    "    labels = ['airplane', 'automobile', 'bird', 'cat', 'deer', 'dog', 'frog', 'horse', 'ship', 'truck']\n",
    "    return labels[encode.index(max(encode))]\n",
    "\n",
    "# Load network and saved model to predict.\n",
    "model = tflearn.DNN(network)\n",
    "model.load(\"./models/{}\".format(NAME))\n",
    "\n",
    "# Get all .jpg image from 'test_data' folder.\n",
    "folder = os.listdir('./test_data')\n",
    "for file in folder:\n",
    "    if file.endswith('.jpg'):\n",
    "        # Assume the answer is filename.\n",
    "        answer = file.replace(\".jpg\", \"\")\n",
    "\n",
    "        # Load image and convert to numpy array.\n",
    "        img = Image.open(\"test_data/{}\".format(file)).convert('RGB')\n",
    "        img = ImageOps.fit(img, ((32,32)), Image.ANTIALIAS)\n",
    "        img_arr = np.array(img)\n",
    "        img_arr = img_arr.reshape(1,32,32,3).astype(\"float\")\n",
    "        \n",
    "        # Predict image array\n",
    "        result = model.predict(img_arr)\n",
    "        \n",
    "        # Show the result\n",
    "        plt.figure(figsize=(2, 2))\n",
    "        plt.title(\"Result: {}\\nAnswer: {}\".format(encode2label(result[0]), answer))\n",
    "        plt.imshow(img)\n",
    "        plt.show()"
   ]
  },
  {
   "cell_type": "code",
   "execution_count": null,
   "metadata": {},
   "outputs": [],
   "source": []
  }
 ],
 "metadata": {
  "kernelspec": {
   "display_name": "Python 3",
   "language": "python",
   "name": "python3"
  },
  "language_info": {
   "codemirror_mode": {
    "name": "ipython",
    "version": 3
   },
   "file_extension": ".py",
   "mimetype": "text/x-python",
   "name": "python",
   "nbconvert_exporter": "python",
   "pygments_lexer": "ipython3",
   "version": "3.6.5"
  }
 },
 "nbformat": 4,
 "nbformat_minor": 2
}
