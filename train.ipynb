{
 "cells": [
  {
   "cell_type": "code",
   "execution_count": null,
   "metadata": {},
   "outputs": [],
   "source": [
    "# -*- coding: utf-8 -*-\n",
    "\"\"\"\n",
    "    File name: train.ipynb\n",
    "    Author: Theo Chen <theokleintw@gmail.com>\n",
    "\"\"\"\n",
    "%matplotlib inline\n",
    "\n",
    "import tflearn\n",
    "from tflearn.data_utils import shuffle, to_categorical\n",
    "from tflearn.layers.core import input_data, dropout, fully_connected\n",
    "from tflearn.layers.conv import conv_2d, max_pool_2d\n",
    "from tflearn.layers.estimator import regression\n",
    "from tflearn.datasets import cifar10\n",
    "from cnn import network, NAME, EPOCH\n",
    "import matplotlib.pyplot as plt\n",
    "\n",
    "# Load CIFAR10 from tflearn function\n",
    "(X, Y), (X_test, Y_test) = cifar10.load_data()\n",
    "X, Y = shuffle(X, Y)\n",
    "Y = to_categorical(Y, 10)\n",
    "Y_test = to_categorical(Y_test, 10)\n",
    "\n",
    "print(X[0])\n",
    "for i in range(10):\n",
    "    plt.figure(figsize=(2, 2))\n",
    "    plt.title(Y[i])\n",
    "    plt.imshow(X[i])\n",
    "    plt.show()\n",
    "\n",
    "# Define the model\n",
    "model = tflearn.DNN(network, tensorboard_verbose=0, tensorboard_dir='./tflearn_logs/')\n",
    "\n",
    "# # Training\n",
    "model.fit(X, Y, n_epoch=EPOCH, shuffle=True, validation_set=(X_test, Y_test),\n",
    "          show_metric=True, batch_size=96, run_id=NAME)\n",
    "\n",
    "# # Save the model\n",
    "model.save(\"./models/{}\".format(NAME))"
   ]
  },
  {
   "cell_type": "code",
   "execution_count": null,
   "metadata": {},
   "outputs": [],
   "source": []
  }
 ],
 "metadata": {
  "kernelspec": {
   "display_name": "Python 3",
   "language": "python",
   "name": "python3"
  },
  "language_info": {
   "codemirror_mode": {
    "name": "ipython",
    "version": 3
   },
   "file_extension": ".py",
   "mimetype": "text/x-python",
   "name": "python",
   "nbconvert_exporter": "python",
   "pygments_lexer": "ipython3",
   "version": "3.6.5"
  }
 },
 "nbformat": 4,
 "nbformat_minor": 2
}
